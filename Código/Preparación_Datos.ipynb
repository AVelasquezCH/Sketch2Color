{
 "cells": [
  {
   "cell_type": "markdown",
   "metadata": {},
   "source": [
    "<h1 align=\"center\">Preparación de datos</h1>\n",
    "<hr />"
   ]
  },
  {
   "cell_type": "markdown",
   "metadata": {},
   "source": [
    "## Se importan los datos a usar"
   ]
  },
  {
   "cell_type": "code",
   "execution_count": 1,
   "metadata": {},
   "outputs": [],
   "source": [
    "import pandas as pd\n",
    "import re"
   ]
  },
  {
   "cell_type": "markdown",
   "metadata": {},
   "source": [
    "## Se realiza la normalización de datos"
   ]
  },
  {
   "cell_type": "markdown",
   "metadata": {},
   "source": [
    "### 1. Se carga el primer dataset"
   ]
  },
  {
   "cell_type": "code",
   "execution_count": 2,
   "metadata": {},
   "outputs": [],
   "source": [
    "dfdelitos = pd.read_csv(\"DataCrim_SinProcesar.csv\")"
   ]
  },
  {
   "cell_type": "markdown",
   "metadata": {},
   "source": [
    "### 2. Se usan expresiones regulares para extraer solo el texto, debido a que en algunos campos se encuentran números y/o carácteres anomalos"
   ]
  },
  {
   "cell_type": "code",
   "execution_count": 5,
   "metadata": {},
   "outputs": [],
   "source": [
    "dfdelitos[\"Generica\"] = dfdelitos[\"Generica\"].str.extract(r'([A-Za-zÑñÁ-Ú-, ]+)')\n",
    "dfdelitos[\"Especifica\"] = dfdelitos[\"Especifica\"].str.extract(r'([A-Za-zÑñÁ-Ú-, ]+)')\n",
    "dfdelitos[\"Modalidad\"] = dfdelitos[\"Modalidad\"].str.extract(r'([A-Za-zÑñÁ-Ú-, ]+)')\n",
    "dfdelitos[\"Departamento\"] = dfdelitos[\"Departamento\"].str.extract(r'([A-Za-zÑñÁ-Ú-, ]+)')\n",
    "dfdelitos[\"Provincia\"] = dfdelitos[\"Provincia\"].str.extract(r'([A-Za-zÑñÁ-Ú-, ]+)')\n",
    "dfdelitos[\"Distrito\"] = dfdelitos[\"Distrito\"].str.extract(r'([A-Za-zÑñÁ-Ú-, ]+)')"
   ]
  },
  {
   "cell_type": "markdown",
   "metadata": {},
   "source": [
    "### 3. Para los textos, se hace un strip para eliminar los espacios al principio y al final del texto"
   ]
  },
  {
   "cell_type": "code",
   "execution_count": 6,
   "metadata": {},
   "outputs": [],
   "source": [
    "dfdelitos[\"Generica\"] = dfdelitos[\"Generica\"].str.strip()\n",
    "dfdelitos[\"Especifica\"] = dfdelitos[\"Especifica\"].str.strip()\n",
    "dfdelitos[\"Modalidad\"] = dfdelitos[\"Modalidad\"].str.strip()\n",
    "dfdelitos[\"Departamento\"] = dfdelitos[\"Departamento\"].str.strip()\n",
    "dfdelitos[\"Provincia\"] = dfdelitos[\"Provincia\"].str.strip()\n",
    "dfdelitos[\"Distrito\"] = dfdelitos[\"Distrito\"].str.strip()"
   ]
  },
  {
   "cell_type": "markdown",
   "metadata": {},
   "source": [
    "### 4. Se actualiza el csv con los nuevos valores"
   ]
  },
  {
   "cell_type": "code",
   "execution_count": 7,
   "metadata": {},
   "outputs": [],
   "source": [
    "dfdelitos.to_csv(\"DataCrim.csv\", index=False)"
   ]
  },
  {
   "cell_type": "markdown",
   "metadata": {},
   "source": [
    "### 5. Se carga el segundo dataset"
   ]
  },
  {
   "cell_type": "code",
   "execution_count": 8,
   "metadata": {},
   "outputs": [],
   "source": [
    "dfRobosLima = pd.read_csv(\"crimenes.csv\", sep = ';', encoding = \"ISO-8859-1\")"
   ]
  },
  {
   "cell_type": "markdown",
   "metadata": {},
   "source": [
    "### 6. Se recorre el dataset para derle un correcto formato a la fecha, debido a que en el dataset se encuentra con un formate de \"DD/MM/YY\" y la base de datos requiere un formato de \"YYYY/MM/DD\""
   ]
  },
  {
   "cell_type": "code",
   "execution_count": 9,
   "metadata": {},
   "outputs": [],
   "source": [
    "arr = []\n",
    "year = ''\n",
    "month = ''\n",
    "day = ''\n",
    "for i in range(len(dfRobosLima[\"FECHA\"])):\n",
    "    \n",
    "    if(str(dfRobosLima[\"FECHA\"][i]) == 'nan'):\n",
    "        arr.append('1900/01/01')\n",
    "        \n",
    "    elif(('/' in dfRobosLima[\"FECHA\"][i]) or ('-' in dfRobosLima[\"FECHA\"][i])):\n",
    "        sp = re.findall(r\"([0-9]+)\", dfRobosLima[\"FECHA\"][i])\n",
    "        year = str(sp[2]) if len(str(sp[2])) > 2 else '20'+str(sp[2])\n",
    "        year = year.replace('0217','2017')\n",
    "        year = year.replace('2107','2017')\n",
    "        if int(sp[1]) <= 12:\n",
    "            month = str(sp[1])\n",
    "            day = str(sp[0])\n",
    "        else:\n",
    "            month = str(sp[0])\n",
    "            day = str(sp[1])\n",
    "#         month = str(sp[1] if int(sp[1]) <= 12 else sp[0])\n",
    "#         day = str(sp[0] if int(sp[0]) <= 12 else sp[1])\n",
    "        arr.append(year + '/' + month + '/' + day)\n",
    "        \n",
    "    else:\n",
    "        j = i\n",
    "        while True:\n",
    "            j+=1\n",
    "            if('/' in dfRobosLima[\"FECHA\"][j] or '-' in dfRobosLima[\"FECHA\"][j]):\n",
    "                sp = re.findall(r\"([0-9]+)\", dfRobosLima[\"FECHA\"][j])\n",
    "                break\n",
    "        arr.append((str(sp[2]) if len(str(sp[2])) > 2 else '20'+str(sp[2])) + '/' + \n",
    "                   str(sp[1] if int(sp[1]) <= 12 else sp[0]) + '/' + \n",
    "                   str(dfRobosLima[\"FECHA\"][i]))\n",
    "        \n",
    "dfRobosLima[\"FECHA\"] = pd.DataFrame({\"FECHA\":arr})"
   ]
  },
  {
   "cell_type": "markdown",
   "metadata": {},
   "source": [
    "### 7. Para los valores que esten nulos, se reemplaza pur el texto de \"No especifica\""
   ]
  },
  {
   "cell_type": "code",
   "execution_count": 10,
   "metadata": {},
   "outputs": [],
   "source": [
    "text = \"No Especifica\"\n",
    "dfRobosLima.loc[dfRobosLima[\"EDAD VICTIMA\"].isnull(), \"EDAD VICTIMA\"] = text\n",
    "dfRobosLima.loc[dfRobosLima[\"EDAD DELINCUENTE\"].isnull(), \"EDAD DELINCUENTE\"] = text\n",
    "dfRobosLima.loc[dfRobosLima[\"EDAD VICTIMA\"].str.contains('\\(n'), \"EDAD VICTIMA\"] = text\n",
    "dfRobosLima.loc[dfRobosLima[\"EDAD DELINCUENTE\"].str.contains('\\(n'), \"EDAD DELINCUENTE\"] = text\n",
    "dfRobosLima.loc[dfRobosLima[\"OCUPACIÓN\"].isnull(), \"OCUPACIÓN\"] = text\n",
    "dfRobosLima.loc[dfRobosLima[\"GENERO DELINCUENTE\"].isnull(), \"GENERO DELINCUENTE\"] = text\n",
    "dfRobosLima.loc[dfRobosLima[\"GENERO VICTIMA\"].isnull(), \"GENERO VICTIMA\"] = text\n",
    "dfRobosLima.loc[dfRobosLima[\"GENERO DELINCUENTE\"].str.contains('\\(n'), \"GENERO DELINCUENTE\"] = text\n",
    "dfRobosLima.loc[dfRobosLima[\"GENERO VICTIMA\"].str.contains('\\(n'), \"GENERO VICTIMA\"] = text"
   ]
  },
  {
   "cell_type": "markdown",
   "metadata": {},
   "source": [
    "### 8. Para los campos de tipos de arma que esten nulos, se especifica el valor de otros"
   ]
  },
  {
   "cell_type": "code",
   "execution_count": 11,
   "metadata": {},
   "outputs": [],
   "source": [
    "dfRobosLima.loc[dfRobosLima[\"TIPO DE ARMA\"].isnull(), \"TIPO DE ARMA\"] = \"Otros\""
   ]
  },
  {
   "cell_type": "markdown",
   "metadata": {},
   "source": [
    "### 9. Para los campos de heridos o muertos que esten nulos, se inserta el valor de 0"
   ]
  },
  {
   "cell_type": "code",
   "execution_count": 12,
   "metadata": {},
   "outputs": [],
   "source": [
    "dfRobosLima.loc[dfRobosLima[\"HERIDOS\"].isnull(), \"HERIDOS\"] = 0\n",
    "dfRobosLima.loc[dfRobosLima[\"MUERTOS\"].isnull(), \"MUERTOS\"] = 0"
   ]
  },
  {
   "cell_type": "markdown",
   "metadata": {},
   "source": [
    "### 10. Para el campo distrito, se hace un upper para que se inserte en mayusculas"
   ]
  },
  {
   "cell_type": "code",
   "execution_count": 13,
   "metadata": {},
   "outputs": [],
   "source": [
    "dfRobosLima[\"DISTRITO\"] = dfRobosLima[\"DISTRITO\"].str.upper()"
   ]
  },
  {
   "cell_type": "markdown",
   "metadata": {},
   "source": [
    "### 11. Se reemplazan los valores acentuados con su aquivalente sin acentuar"
   ]
  },
  {
   "cell_type": "code",
   "execution_count": 14,
   "metadata": {},
   "outputs": [],
   "source": [
    "dfRobosLima[\"DISTRITO\"] = dfRobosLima[\"DISTRITO\"].str.replace('Í','I')\n",
    "dfRobosLima[\"DISTRITO\"] = dfRobosLima[\"DISTRITO\"].str.replace('Ú', 'U')\n",
    "dfRobosLima[\"DISTRITO\"] = dfRobosLima[\"DISTRITO\"].str.replace('Ó', 'O')"
   ]
  },
  {
   "cell_type": "markdown",
   "metadata": {},
   "source": [
    "### 12. Se eliminan valores que contengan datos anomalos"
   ]
  },
  {
   "cell_type": "code",
   "execution_count": 15,
   "metadata": {},
   "outputs": [],
   "source": [
    "dfRobosLima = dfRobosLima.drop(dfRobosLima[dfRobosLima[\"GENERO VICTIMA\"].str.contains('/')].index)\n",
    "dfRobosLima = dfRobosLima.drop(dfRobosLima[dfRobosLima[\"GENERO DELINCUENTE\"].str.contains('/')].index)\n",
    "dfRobosLima = dfRobosLima.drop(dfRobosLima[dfRobosLima[\"EDAD VICTIMA\"].str.contains('/')].index)\n",
    "dfRobosLima = dfRobosLima.drop(dfRobosLima[dfRobosLima[\"EDAD DELINCUENTE\"].str.contains('/')].index)"
   ]
  },
  {
   "cell_type": "markdown",
   "metadata": {},
   "source": [
    "### 13. Se almacena el DataFrame en un csv"
   ]
  },
  {
   "cell_type": "code",
   "execution_count": 16,
   "metadata": {},
   "outputs": [],
   "source": [
    "dfRobosLima.to_csv(\"CrimenesLima.csv\", index=False)"
   ]
  }
 ],
 "metadata": {
  "kernelspec": {
   "display_name": "Python 3",
   "language": "python",
   "name": "python3"
  },
  "language_info": {
   "codemirror_mode": {
    "name": "ipython",
    "version": 3
   },
   "file_extension": ".py",
   "mimetype": "text/x-python",
   "name": "python",
   "nbconvert_exporter": "python",
   "pygments_lexer": "ipython3",
   "version": "3.8.3"
  }
 },
 "nbformat": 4,
 "nbformat_minor": 4
}
