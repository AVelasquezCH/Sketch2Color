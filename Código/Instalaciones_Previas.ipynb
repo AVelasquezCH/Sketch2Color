{
 "cells": [
  {
   "cell_type": "markdown",
   "metadata": {},
   "source": [
    "<h1 align=\"center\">Instalación de paquetes necesarios</h1>\n",
    "<hr />"
   ]
  },
  {
   "cell_type": "code",
   "execution_count": null,
   "metadata": {},
   "outputs": [],
   "source": [
    "!pip3 install sqlalchemy"
   ]
  },
  {
   "cell_type": "code",
   "execution_count": null,
   "metadata": {},
   "outputs": [],
   "source": [
    "!pip3 install PyMySQL"
   ]
  },
  {
   "cell_type": "code",
   "execution_count": null,
   "metadata": {},
   "outputs": [],
   "source": [
    "!pip3 install dash"
   ]
  },
  {
   "cell_type": "code",
   "execution_count": 1,
   "metadata": {},
   "outputs": [
    {
     "name": "stdout",
     "output_type": "stream",
     "text": [
      "Collecting dash_bootstrap_components\n",
      "\u001b[?25l  Downloading https://files.pythonhosted.org/packages/da/09/9f100586edd1605409c9be8a8d1eabd5cfd1b4a7b842e2761e9c44eedd89/dash-bootstrap-components-0.10.3.tar.gz (107kB)\n",
      "\u001b[K    100% |████████████████████████████████| 112kB 267kB/s ta 0:00:01   57% |██████████████████▎             | 61kB 226kB/s eta 0:00:01\n",
      "\u001b[?25h  Installing build dependencies ... \u001b[?25ldone\n",
      "\u001b[?25hRequirement already satisfied: dash>=1.9.0 in ./.local/lib/python3.7/site-packages (from dash_bootstrap_components) (1.13.4)\n",
      "Requirement already satisfied: Flask>=1.0.2 in ./.local/lib/python3.7/site-packages (from dash>=1.9.0->dash_bootstrap_components) (1.1.2)\n",
      "Requirement already satisfied: future in ./.local/lib/python3.7/site-packages (from dash>=1.9.0->dash_bootstrap_components) (0.18.2)\n",
      "Requirement already satisfied: plotly in ./.local/lib/python3.7/site-packages (from dash>=1.9.0->dash_bootstrap_components) (4.9.0)\n",
      "Requirement already satisfied: dash-core-components==1.10.1 in ./.local/lib/python3.7/site-packages (from dash>=1.9.0->dash_bootstrap_components) (1.10.1)\n",
      "Requirement already satisfied: flask-compress in ./.local/lib/python3.7/site-packages (from dash>=1.9.0->dash_bootstrap_components) (1.5.0)\n",
      "Requirement already satisfied: dash-html-components==1.0.3 in ./.local/lib/python3.7/site-packages (from dash>=1.9.0->dash_bootstrap_components) (1.0.3)\n",
      "Requirement already satisfied: dash-renderer==1.5.1 in ./.local/lib/python3.7/site-packages (from dash>=1.9.0->dash_bootstrap_components) (1.5.1)\n",
      "Requirement already satisfied: dash-table==4.8.1 in ./.local/lib/python3.7/site-packages (from dash>=1.9.0->dash_bootstrap_components) (4.8.1)\n",
      "Requirement already satisfied: itsdangerous>=0.24 in ./.local/lib/python3.7/site-packages (from Flask>=1.0.2->dash>=1.9.0->dash_bootstrap_components) (1.1.0)\n",
      "Requirement already satisfied: Werkzeug>=0.15 in ./.local/lib/python3.7/site-packages (from Flask>=1.0.2->dash>=1.9.0->dash_bootstrap_components) (1.0.1)\n",
      "Requirement already satisfied: Jinja2>=2.10.1 in /usr/local/lib/python3.7/dist-packages (from Flask>=1.0.2->dash>=1.9.0->dash_bootstrap_components) (2.11.2)\n",
      "Requirement already satisfied: click>=5.1 in ./.local/lib/python3.7/site-packages (from Flask>=1.0.2->dash>=1.9.0->dash_bootstrap_components) (7.1.2)\n",
      "Requirement already satisfied: six in /usr/lib/python3/dist-packages (from plotly->dash>=1.9.0->dash_bootstrap_components) (1.12.0)\n",
      "Requirement already satisfied: retrying>=1.3.3 in ./.local/lib/python3.7/site-packages (from plotly->dash>=1.9.0->dash_bootstrap_components) (1.3.3)\n",
      "Requirement already satisfied: brotli in ./.local/lib/python3.7/site-packages (from flask-compress->dash>=1.9.0->dash_bootstrap_components) (1.0.7)\n",
      "Requirement already satisfied: MarkupSafe>=0.23 in /usr/local/lib/python3.7/dist-packages (from Jinja2>=2.10.1->Flask>=1.0.2->dash>=1.9.0->dash_bootstrap_components) (1.1.1)\n",
      "Building wheels for collected packages: dash-bootstrap-components\n",
      "  Running setup.py bdist_wheel for dash-bootstrap-components ... \u001b[?25ldone\n",
      "\u001b[?25h  Stored in directory: /home/starlord/.cache/pip/wheels/c0/96/96/1900eafa8fba572ad4f539891d37e37a480c0b045bf92df243\n",
      "Successfully built dash-bootstrap-components\n",
      "Installing collected packages: dash-bootstrap-components\n",
      "Successfully installed dash-bootstrap-components-0.10.3\n"
     ]
    }
   ],
   "source": [
    "!pip3 install dash_bootstrap_components"
   ]
  }
 ],
 "metadata": {
  "kernelspec": {
   "display_name": "Python 3",
   "language": "python",
   "name": "python3"
  },
  "language_info": {
   "codemirror_mode": {
    "name": "ipython",
    "version": 3
   },
   "file_extension": ".py",
   "mimetype": "text/x-python",
   "name": "python",
   "nbconvert_exporter": "python",
   "pygments_lexer": "ipython3",
   "version": "3.7.3"
  }
 },
 "nbformat": 4,
 "nbformat_minor": 4
}
