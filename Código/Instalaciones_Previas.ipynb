{
 "cells": [
  {
   "cell_type": "markdown",
   "metadata": {},
   "source": [
    "<h1 align=\"center\">Instalación de paquetes necesarios</h1>\n",
    "<hr />"
   ]
  },
  {
   "cell_type": "code",
   "execution_count": 1,
   "metadata": {},
   "outputs": [
    {
     "name": "stdout",
     "output_type": "stream",
     "text": [
      "Requirement already satisfied: sqlalchemy in ./anaconda3/lib/python3.8/site-packages (1.3.18)\n"
     ]
    }
   ],
   "source": [
    "!pip3 install sqlalchemy"
   ]
  },
  {
   "cell_type": "code",
   "execution_count": 2,
   "metadata": {},
   "outputs": [
    {
     "name": "stdout",
     "output_type": "stream",
     "text": [
      "Requirement already satisfied: PyMySQL in ./anaconda3/lib/python3.8/site-packages (0.10.0)\n"
     ]
    }
   ],
   "source": [
    "!pip3 install PyMySQL"
   ]
  },
  {
   "cell_type": "code",
   "execution_count": 3,
   "metadata": {},
   "outputs": [
    {
     "name": "stdout",
     "output_type": "stream",
     "text": [
      "Requirement already satisfied: dash in ./anaconda3/lib/python3.8/site-packages (1.13.4)\n",
      "Requirement already satisfied: future in ./anaconda3/lib/python3.8/site-packages (from dash) (0.18.2)\n",
      "Requirement already satisfied: dash-html-components==1.0.3 in ./anaconda3/lib/python3.8/site-packages (from dash) (1.0.3)\n",
      "Requirement already satisfied: dash-core-components==1.10.1 in ./anaconda3/lib/python3.8/site-packages (from dash) (1.10.1)\n",
      "Requirement already satisfied: dash-renderer==1.5.1 in ./anaconda3/lib/python3.8/site-packages (from dash) (1.5.1)\n",
      "Requirement already satisfied: dash-table==4.8.1 in ./anaconda3/lib/python3.8/site-packages (from dash) (4.8.1)\n",
      "Requirement already satisfied: Flask>=1.0.2 in ./anaconda3/lib/python3.8/site-packages (from dash) (1.1.2)\n",
      "Requirement already satisfied: plotly in ./anaconda3/lib/python3.8/site-packages (from dash) (4.9.0)\n",
      "Requirement already satisfied: flask-compress in ./anaconda3/lib/python3.8/site-packages (from dash) (1.5.0)\n",
      "Requirement already satisfied: Jinja2>=2.10.1 in ./anaconda3/lib/python3.8/site-packages (from Flask>=1.0.2->dash) (2.11.2)\n",
      "Requirement already satisfied: Werkzeug>=0.15 in ./anaconda3/lib/python3.8/site-packages (from Flask>=1.0.2->dash) (1.0.1)\n",
      "Requirement already satisfied: itsdangerous>=0.24 in ./anaconda3/lib/python3.8/site-packages (from Flask>=1.0.2->dash) (1.1.0)\n",
      "Requirement already satisfied: click>=5.1 in ./anaconda3/lib/python3.8/site-packages (from Flask>=1.0.2->dash) (7.1.2)\n",
      "Requirement already satisfied: six in ./anaconda3/lib/python3.8/site-packages (from plotly->dash) (1.15.0)\n",
      "Requirement already satisfied: retrying>=1.3.3 in ./anaconda3/lib/python3.8/site-packages (from plotly->dash) (1.3.3)\n",
      "Requirement already satisfied: brotli in ./anaconda3/lib/python3.8/site-packages (from flask-compress->dash) (1.0.7)\n",
      "Requirement already satisfied: MarkupSafe>=0.23 in ./anaconda3/lib/python3.8/site-packages (from Jinja2>=2.10.1->Flask>=1.0.2->dash) (1.1.1)\n"
     ]
    }
   ],
   "source": [
    "!pip3 install dash"
   ]
  },
  {
   "cell_type": "code",
   "execution_count": 4,
   "metadata": {},
   "outputs": [
    {
     "name": "stdout",
     "output_type": "stream",
     "text": [
      "Collecting dash_bootstrap_components\n",
      "  Downloading dash-bootstrap-components-0.10.3.tar.gz (107 kB)\n",
      "\u001b[K     |████████████████████████████████| 107 kB 4.5 MB/s eta 0:00:01\n",
      "\u001b[?25h  Installing build dependencies ... \u001b[?25ldone\n",
      "\u001b[?25h  Getting requirements to build wheel ... \u001b[?25ldone\n",
      "\u001b[?25h    Preparing wheel metadata ... \u001b[?25ldone\n",
      "\u001b[?25hRequirement already satisfied: dash>=1.9.0 in ./anaconda3/lib/python3.8/site-packages (from dash_bootstrap_components) (1.13.4)\n",
      "Requirement already satisfied: dash-renderer==1.5.1 in ./anaconda3/lib/python3.8/site-packages (from dash>=1.9.0->dash_bootstrap_components) (1.5.1)\n",
      "Requirement already satisfied: future in ./anaconda3/lib/python3.8/site-packages (from dash>=1.9.0->dash_bootstrap_components) (0.18.2)\n",
      "Requirement already satisfied: plotly in ./anaconda3/lib/python3.8/site-packages (from dash>=1.9.0->dash_bootstrap_components) (4.9.0)\n",
      "Requirement already satisfied: dash-core-components==1.10.1 in ./anaconda3/lib/python3.8/site-packages (from dash>=1.9.0->dash_bootstrap_components) (1.10.1)\n",
      "Requirement already satisfied: dash-html-components==1.0.3 in ./anaconda3/lib/python3.8/site-packages (from dash>=1.9.0->dash_bootstrap_components) (1.0.3)\n",
      "Requirement already satisfied: Flask>=1.0.2 in ./anaconda3/lib/python3.8/site-packages (from dash>=1.9.0->dash_bootstrap_components) (1.1.2)\n",
      "Requirement already satisfied: dash-table==4.8.1 in ./anaconda3/lib/python3.8/site-packages (from dash>=1.9.0->dash_bootstrap_components) (4.8.1)\n",
      "Requirement already satisfied: flask-compress in ./anaconda3/lib/python3.8/site-packages (from dash>=1.9.0->dash_bootstrap_components) (1.5.0)\n",
      "Requirement already satisfied: retrying>=1.3.3 in ./anaconda3/lib/python3.8/site-packages (from plotly->dash>=1.9.0->dash_bootstrap_components) (1.3.3)\n",
      "Requirement already satisfied: six in ./anaconda3/lib/python3.8/site-packages (from plotly->dash>=1.9.0->dash_bootstrap_components) (1.15.0)\n",
      "Requirement already satisfied: itsdangerous>=0.24 in ./anaconda3/lib/python3.8/site-packages (from Flask>=1.0.2->dash>=1.9.0->dash_bootstrap_components) (1.1.0)\n",
      "Requirement already satisfied: Werkzeug>=0.15 in ./anaconda3/lib/python3.8/site-packages (from Flask>=1.0.2->dash>=1.9.0->dash_bootstrap_components) (1.0.1)\n",
      "Requirement already satisfied: Jinja2>=2.10.1 in ./anaconda3/lib/python3.8/site-packages (from Flask>=1.0.2->dash>=1.9.0->dash_bootstrap_components) (2.11.2)\n",
      "Requirement already satisfied: click>=5.1 in ./anaconda3/lib/python3.8/site-packages (from Flask>=1.0.2->dash>=1.9.0->dash_bootstrap_components) (7.1.2)\n",
      "Requirement already satisfied: brotli in ./anaconda3/lib/python3.8/site-packages (from flask-compress->dash>=1.9.0->dash_bootstrap_components) (1.0.7)\n",
      "Requirement already satisfied: MarkupSafe>=0.23 in ./anaconda3/lib/python3.8/site-packages (from Jinja2>=2.10.1->Flask>=1.0.2->dash>=1.9.0->dash_bootstrap_components) (1.1.1)\n",
      "Building wheels for collected packages: dash-bootstrap-components\n",
      "  Building wheel for dash-bootstrap-components (PEP 517) ... \u001b[?25ldone\n",
      "\u001b[?25h  Created wheel for dash-bootstrap-components: filename=dash_bootstrap_components-0.10.3-py3-none-any.whl size=179486 sha256=1bd36d32fbc34f63b2747ad178bffe7e55225b7fe53813774b64d487ced2ae60\n",
      "  Stored in directory: /home/starlord/.cache/pip/wheels/b6/d9/63/0a46dbc1c1bc38214e77bf312223f106c2a260c5b8e2265fac\n",
      "Successfully built dash-bootstrap-components\n",
      "Installing collected packages: dash-bootstrap-components\n",
      "Successfully installed dash-bootstrap-components-0.10.3\n"
     ]
    }
   ],
   "source": [
    "!pip3 install dash_bootstrap_components"
   ]
  },
  {
   "cell_type": "code",
   "execution_count": 5,
   "metadata": {},
   "outputs": [
    {
     "name": "stdout",
     "output_type": "stream",
     "text": [
      "Collecting flask_cors\n",
      "  Downloading Flask_Cors-3.0.8-py2.py3-none-any.whl (14 kB)\n",
      "Requirement already satisfied: Six in ./anaconda3/lib/python3.8/site-packages (from flask_cors) (1.15.0)\n",
      "Requirement already satisfied: Flask>=0.9 in ./anaconda3/lib/python3.8/site-packages (from flask_cors) (1.1.2)\n",
      "Requirement already satisfied: itsdangerous>=0.24 in ./anaconda3/lib/python3.8/site-packages (from Flask>=0.9->flask_cors) (1.1.0)\n",
      "Requirement already satisfied: click>=5.1 in ./anaconda3/lib/python3.8/site-packages (from Flask>=0.9->flask_cors) (7.1.2)\n",
      "Requirement already satisfied: Jinja2>=2.10.1 in ./anaconda3/lib/python3.8/site-packages (from Flask>=0.9->flask_cors) (2.11.2)\n",
      "Requirement already satisfied: Werkzeug>=0.15 in ./anaconda3/lib/python3.8/site-packages (from Flask>=0.9->flask_cors) (1.0.1)\n",
      "Requirement already satisfied: MarkupSafe>=0.23 in ./anaconda3/lib/python3.8/site-packages (from Jinja2>=2.10.1->Flask>=0.9->flask_cors) (1.1.1)\n",
      "Installing collected packages: flask-cors\n",
      "Successfully installed flask-cors-3.0.8\n"
     ]
    }
   ],
   "source": [
    "!pip3 install flask_cors"
   ]
  }
 ],
 "metadata": {
  "kernelspec": {
   "display_name": "Python 3",
   "language": "python",
   "name": "python3"
  },
  "language_info": {
   "codemirror_mode": {
    "name": "ipython",
    "version": 3
   },
   "file_extension": ".py",
   "mimetype": "text/x-python",
   "name": "python",
   "nbconvert_exporter": "python",
   "pygments_lexer": "ipython3",
   "version": "3.8.3"
  }
 },
 "nbformat": 4,
 "nbformat_minor": 4
}
