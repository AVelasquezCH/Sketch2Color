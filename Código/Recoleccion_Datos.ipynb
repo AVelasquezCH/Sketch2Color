{
 "cells": [
  {
   "cell_type": "markdown",
   "metadata": {},
   "source": [
    "<h1 align=\"center\">Recolección de datos</h1>\n",
    "<hr />"
   ]
  },
  {
   "cell_type": "markdown",
   "metadata": {},
   "source": [
    "## Importar paquetes a usar"
   ]
  },
  {
   "cell_type": "code",
   "execution_count": 139,
   "metadata": {},
   "outputs": [],
   "source": [
    "import requests\n",
    "import bs4\n",
    "import pandas as pd\n",
    "import re\n",
    "import csv"
   ]
  },
  {
   "cell_type": "markdown",
   "metadata": {},
   "source": [
    "## Recolección de datos"
   ]
  },
  {
   "cell_type": "markdown",
   "metadata": {},
   "source": [
    "### 1. Se hace un request para obtener los datos"
   ]
  },
  {
   "cell_type": "code",
   "execution_count": 116,
   "metadata": {},
   "outputs": [],
   "source": [
    "delitos = \"http://datacrim.inei.gob.pe/csv_controller/index?desde=tematico&id=40171,40172,40173,40514,40515,40516\"\n",
    "htmldelitos = bs4.BeautifulSoup(requests.get(delitos).text)"
   ]
  },
  {
   "cell_type": "markdown",
   "metadata": {},
   "source": [
    "### 2. Se recorre el html para obtener en un array los valores deseados"
   ]
  },
  {
   "cell_type": "code",
   "execution_count": 165,
   "metadata": {},
   "outputs": [],
   "source": [
    "arr1 = [tag.text.split(\"\\n\") for tag in htmldelitos.find(\"html\").select(\"body\")]\n",
    "\n",
    "arr2 = [list(csv.reader([val], delimiter=',', quotechar='\"')) for val in arr1[0]]"
   ]
  },
  {
   "cell_type": "markdown",
   "metadata": {},
   "source": [
    "### 3. Se crea una matriz con los nombres de las respectivas columnas"
   ]
  },
  {
   "cell_type": "code",
   "execution_count": 166,
   "metadata": {},
   "outputs": [],
   "source": [
    "mat = {}\n",
    "\n",
    "mat[\"Año\"] = []\n",
    "mat[\"Numero\"] = []\n",
    "mat[\"Generica\"] = []\n",
    "mat[\"Especifica\"] = []\n",
    "mat[\"Modalidad\"] = []\n",
    "mat[\"Departamento\"] = []\n",
    "mat[\"Provincia\"] = []\n",
    "mat[\"Distrito\"] = []"
   ]
  },
  {
   "cell_type": "markdown",
   "metadata": {},
   "source": [
    "### 3. Se recorre el html anteriormente creado para ingresarlo en la columna respectiva de la matriz y posteriormente se ingresa en un csv"
   ]
  },
  {
   "cell_type": "code",
   "execution_count": 167,
   "metadata": {},
   "outputs": [],
   "source": [
    "for i in range(1,len(arr2)):\n",
    "    #if len(arr2[i]) == 8:\n",
    "    #print(i)\n",
    "    mat[\"Año\"].append(arr2[i][0][0])\n",
    "    mat[\"Numero\"].append(arr2[i][0][1])\n",
    "    mat[\"Generica\"].append(arr2[i][0][2])\n",
    "    mat[\"Especifica\"].append(arr2[i][0][3])\n",
    "    mat[\"Modalidad\"].append(arr2[i][0][4])\n",
    "    mat[\"Departamento\"].append(arr2[i][0][5])\n",
    "    mat[\"Provincia\"].append(arr2[i][0][6])\n",
    "    mat[\"Distrito\"].append(arr2[i][0][7])\n",
    "dfdelitos = pd.DataFrame(mat)"
   ]
  },
  {
   "cell_type": "code",
   "execution_count": 163,
   "metadata": {},
   "outputs": [
    {
     "data": {
      "text/html": [
       "<div>\n",
       "<style scoped>\n",
       "    .dataframe tbody tr th:only-of-type {\n",
       "        vertical-align: middle;\n",
       "    }\n",
       "\n",
       "    .dataframe tbody tr th {\n",
       "        vertical-align: top;\n",
       "    }\n",
       "\n",
       "    .dataframe thead th {\n",
       "        text-align: right;\n",
       "    }\n",
       "</style>\n",
       "<table border=\"1\" class=\"dataframe\">\n",
       "  <thead>\n",
       "    <tr style=\"text-align: right;\">\n",
       "      <th></th>\n",
       "      <th>Año</th>\n",
       "      <th>Numero</th>\n",
       "      <th>Generica</th>\n",
       "      <th>Especifica</th>\n",
       "      <th>Modalidad</th>\n",
       "      <th>Departamento</th>\n",
       "      <th>Provincia</th>\n",
       "      <th>Distrito</th>\n",
       "    </tr>\n",
       "  </thead>\n",
       "  <tbody>\n",
       "    <tr>\n",
       "      <th>0</th>\n",
       "      <td>2015</td>\n",
       "      <td>1</td>\n",
       "      <td>DELITOS CONTRA EL HONOR</td>\n",
       "      <td>DIFAMACION</td>\n",
       "      <td>DIFAMACION</td>\n",
       "      <td>LAMBAYEQUE</td>\n",
       "      <td>LAMBAYEQUE</td>\n",
       "      <td>140307 MOTUPE</td>\n",
       "    </tr>\n",
       "    <tr>\n",
       "      <th>1</th>\n",
       "      <td>2015</td>\n",
       "      <td>1</td>\n",
       "      <td>DELITOS CONTRA EL HONOR</td>\n",
       "      <td>DIFAMACION</td>\n",
       "      <td>DIFAMACION</td>\n",
       "      <td>PROVINCIA DE LIMA 1/</td>\n",
       "      <td>LIMA</td>\n",
       "      <td>150117 LOS OLIVOS</td>\n",
       "    </tr>\n",
       "    <tr>\n",
       "      <th>2</th>\n",
       "      <td>2015</td>\n",
       "      <td>1</td>\n",
       "      <td>DELITOS CONTRA EL HONOR</td>\n",
       "      <td>OTROS</td>\n",
       "      <td>OTROS DELITOS CONTRA EL HONOR</td>\n",
       "      <td>AMAZONAS</td>\n",
       "      <td>LUYA</td>\n",
       "      <td>010501 LAMUD</td>\n",
       "    </tr>\n",
       "    <tr>\n",
       "      <th>3</th>\n",
       "      <td>2015</td>\n",
       "      <td>1</td>\n",
       "      <td>DELITOS CONTRA EL HONOR</td>\n",
       "      <td>OTROS</td>\n",
       "      <td>OTROS DELITOS CONTRA EL HONOR</td>\n",
       "      <td>CUSCO</td>\n",
       "      <td>CANCHIS</td>\n",
       "      <td>080608 TINTA</td>\n",
       "    </tr>\n",
       "    <tr>\n",
       "      <th>4</th>\n",
       "      <td>2015</td>\n",
       "      <td>4</td>\n",
       "      <td>DELITOS CONTRA EL ORDEN ECONÓMICO</td>\n",
       "      <td>OTROS DELITOS ECONOMICOS</td>\n",
       "      <td>OTROS DELITOS ECONOMICOS</td>\n",
       "      <td>PUNO</td>\n",
       "      <td>PUNO</td>\n",
       "      <td>210101 PUNO</td>\n",
       "    </tr>\n",
       "    <tr>\n",
       "      <th>...</th>\n",
       "      <td>...</td>\n",
       "      <td>...</td>\n",
       "      <td>...</td>\n",
       "      <td>...</td>\n",
       "      <td>...</td>\n",
       "      <td>...</td>\n",
       "      <td>...</td>\n",
       "      <td>...</td>\n",
       "    </tr>\n",
       "    <tr>\n",
       "      <th>137451</th>\n",
       "      <td>2019</td>\n",
       "      <td>2</td>\n",
       "      <td>DELITOS CONTRA LA VIDA, EL CUERPO Y LA SALUD</td>\n",
       "      <td>TENTATIVA DE HOMICIDIO</td>\n",
       "      <td>TENTATIVA DE FEMINICIDIO</td>\n",
       "      <td>ICA</td>\n",
       "      <td>ICA</td>\n",
       "      <td>110101 ICA</td>\n",
       "    </tr>\n",
       "    <tr>\n",
       "      <th>137452</th>\n",
       "      <td>2019</td>\n",
       "      <td>1</td>\n",
       "      <td>DELITOS CONTRA LA VIDA, EL CUERPO Y LA SALUD</td>\n",
       "      <td>TENTATIVA DE HOMICIDIO</td>\n",
       "      <td>TENTATIVA DE FEMINICIDIO</td>\n",
       "      <td>JUNIN</td>\n",
       "      <td>SATIPO</td>\n",
       "      <td>120604 MAZAMARI</td>\n",
       "    </tr>\n",
       "    <tr>\n",
       "      <th>137453</th>\n",
       "      <td>2019</td>\n",
       "      <td>8</td>\n",
       "      <td>DELITOS CONTRA LA VIDA, EL CUERPO Y LA SALUD</td>\n",
       "      <td>TENTATIVA DE HOMICIDIO</td>\n",
       "      <td>TENTATIVA DE FEMINICIDIO</td>\n",
       "      <td>PROVINCIA CONSTITUCIONAL DEL CALLAO</td>\n",
       "      <td>PROVINCIA CONSTITUCIONAL DEL CALLAO</td>\n",
       "      <td>070101 CALLAO</td>\n",
       "    </tr>\n",
       "    <tr>\n",
       "      <th>137454</th>\n",
       "      <td>2019</td>\n",
       "      <td>1</td>\n",
       "      <td>DELITOS CONTRA LA VOLUNTAD POPULAR</td>\n",
       "      <td>LEY ORGANICA DE ELECCIONES (LEY 26859 01/10/97)</td>\n",
       "      <td>NO EXIGIR DNI CON CONSTANCIA DE SUFRAGIO POR N...</td>\n",
       "      <td>AREQUIPA</td>\n",
       "      <td>AREQUIPA</td>\n",
       "      <td>040129 JOSE LUIS BUSTAMANTE Y RIVERO</td>\n",
       "    </tr>\n",
       "    <tr>\n",
       "      <th>137455</th>\n",
       "      <td>2019</td>\n",
       "      <td>4</td>\n",
       "      <td>DELITOS TRIBUTARIOS</td>\n",
       "      <td>CONTRABANDO</td>\n",
       "      <td>CONTRABANDO</td>\n",
       "      <td>PIURA</td>\n",
       "      <td>SULLANA</td>\n",
       "      <td>200601 SULLANA</td>\n",
       "    </tr>\n",
       "  </tbody>\n",
       "</table>\n",
       "<p>137456 rows × 8 columns</p>\n",
       "</div>"
      ],
      "text/plain": [
       "         Año Numero                                      Generica  \\\n",
       "0       2015      1                       DELITOS CONTRA EL HONOR   \n",
       "1       2015      1                       DELITOS CONTRA EL HONOR   \n",
       "2       2015      1                       DELITOS CONTRA EL HONOR   \n",
       "3       2015      1                       DELITOS CONTRA EL HONOR   \n",
       "4       2015      4             DELITOS CONTRA EL ORDEN ECONÓMICO   \n",
       "...      ...    ...                                           ...   \n",
       "137451  2019      2  DELITOS CONTRA LA VIDA, EL CUERPO Y LA SALUD   \n",
       "137452  2019      1  DELITOS CONTRA LA VIDA, EL CUERPO Y LA SALUD   \n",
       "137453  2019      8  DELITOS CONTRA LA VIDA, EL CUERPO Y LA SALUD   \n",
       "137454  2019      1            DELITOS CONTRA LA VOLUNTAD POPULAR   \n",
       "137455  2019      4                           DELITOS TRIBUTARIOS   \n",
       "\n",
       "                                             Especifica  \\\n",
       "0                                            DIFAMACION   \n",
       "1                                            DIFAMACION   \n",
       "2                                                 OTROS   \n",
       "3                                                 OTROS   \n",
       "4                              OTROS DELITOS ECONOMICOS   \n",
       "...                                                 ...   \n",
       "137451                           TENTATIVA DE HOMICIDIO   \n",
       "137452                           TENTATIVA DE HOMICIDIO   \n",
       "137453                           TENTATIVA DE HOMICIDIO   \n",
       "137454  LEY ORGANICA DE ELECCIONES (LEY 26859 01/10/97)   \n",
       "137455                                      CONTRABANDO   \n",
       "\n",
       "                                                Modalidad  \\\n",
       "0                                              DIFAMACION   \n",
       "1                                              DIFAMACION   \n",
       "2                           OTROS DELITOS CONTRA EL HONOR   \n",
       "3                           OTROS DELITOS CONTRA EL HONOR   \n",
       "4                                OTROS DELITOS ECONOMICOS   \n",
       "...                                                   ...   \n",
       "137451                           TENTATIVA DE FEMINICIDIO   \n",
       "137452                           TENTATIVA DE FEMINICIDIO   \n",
       "137453                           TENTATIVA DE FEMINICIDIO   \n",
       "137454  NO EXIGIR DNI CON CONSTANCIA DE SUFRAGIO POR N...   \n",
       "137455                                        CONTRABANDO   \n",
       "\n",
       "                               Departamento  \\\n",
       "0                                LAMBAYEQUE   \n",
       "1                      PROVINCIA DE LIMA 1/   \n",
       "2                                  AMAZONAS   \n",
       "3                                     CUSCO   \n",
       "4                                      PUNO   \n",
       "...                                     ...   \n",
       "137451                                  ICA   \n",
       "137452                                JUNIN   \n",
       "137453  PROVINCIA CONSTITUCIONAL DEL CALLAO   \n",
       "137454                             AREQUIPA   \n",
       "137455                                PIURA   \n",
       "\n",
       "                                  Provincia  \\\n",
       "0                                LAMBAYEQUE   \n",
       "1                                      LIMA   \n",
       "2                                      LUYA   \n",
       "3                                   CANCHIS   \n",
       "4                                      PUNO   \n",
       "...                                     ...   \n",
       "137451                                  ICA   \n",
       "137452                               SATIPO   \n",
       "137453  PROVINCIA CONSTITUCIONAL DEL CALLAO   \n",
       "137454                             AREQUIPA   \n",
       "137455                              SULLANA   \n",
       "\n",
       "                                    Distrito  \n",
       "0                              140307 MOTUPE  \n",
       "1                          150117 LOS OLIVOS  \n",
       "2                               010501 LAMUD  \n",
       "3                               080608 TINTA  \n",
       "4                                210101 PUNO  \n",
       "...                                      ...  \n",
       "137451                            110101 ICA  \n",
       "137452                       120604 MAZAMARI  \n",
       "137453                         070101 CALLAO  \n",
       "137454  040129 JOSE LUIS BUSTAMANTE Y RIVERO  \n",
       "137455                        200601 SULLANA  \n",
       "\n",
       "[137456 rows x 8 columns]"
      ]
     },
     "execution_count": 163,
     "metadata": {},
     "output_type": "execute_result"
    }
   ],
   "source": [
    "dfdelitos"
   ]
  },
  {
   "cell_type": "markdown",
   "metadata": {},
   "source": [
    "### 4. Se almacena el DataFrame en un csv"
   ]
  },
  {
   "cell_type": "code",
   "execution_count": 168,
   "metadata": {},
   "outputs": [],
   "source": [
    "dfdelitos.to_csv(\"DataCrim_SinProcesar.csv\", index=False)"
   ]
  }
 ],
 "metadata": {
  "kernelspec": {
   "display_name": "Python 3",
   "language": "python",
   "name": "python3"
  },
  "language_info": {
   "codemirror_mode": {
    "name": "ipython",
    "version": 3
   },
   "file_extension": ".py",
   "mimetype": "text/x-python",
   "name": "python",
   "nbconvert_exporter": "python",
   "pygments_lexer": "ipython3",
   "version": "3.7.3"
  }
 },
 "nbformat": 4,
 "nbformat_minor": 4
}
