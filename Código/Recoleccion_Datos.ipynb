{
 "cells": [
  {
   "cell_type": "markdown",
   "metadata": {},
   "source": [
    "<h1 align=\"center\">Recolección de datos</h1>\n",
    "<hr />"
   ]
  },
  {
   "cell_type": "markdown",
   "metadata": {},
   "source": [
    "## Importar paquetes a usar"
   ]
  },
  {
   "cell_type": "code",
   "execution_count": 1,
   "metadata": {},
   "outputs": [],
   "source": [
    "import requests\n",
    "import bs4\n",
    "import pandas as pd\n",
    "import re\n",
    "import csv"
   ]
  },
  {
   "cell_type": "markdown",
   "metadata": {},
   "source": [
    "## Recolección de datos"
   ]
  },
  {
   "cell_type": "markdown",
   "metadata": {},
   "source": [
    "### 1. Se hace un request para obtener los datos"
   ]
  },
  {
   "cell_type": "code",
   "execution_count": 2,
   "metadata": {},
   "outputs": [],
   "source": [
    "delitos = \"http://datacrim.inei.gob.pe/csv_controller/index?desde=tematico&id=40171,40172,40173,40514,40515,40516\"\n",
    "htmldelitos = bs4.BeautifulSoup(requests.get(delitos).text)"
   ]
  },
  {
   "cell_type": "markdown",
   "metadata": {},
   "source": [
    "### 2. Se recorre el html para obtener en un array los valores deseados"
   ]
  },
  {
   "cell_type": "code",
   "execution_count": 3,
   "metadata": {},
   "outputs": [],
   "source": [
    "arr1 = [tag.text.split(\"\\n\") for tag in htmldelitos.find(\"html\").select(\"body\")]\n",
    "\n",
    "arr2 = [list(csv.reader([val], delimiter=',', quotechar='\"')) for val in arr1[0]]"
   ]
  },
  {
   "cell_type": "markdown",
   "metadata": {},
   "source": [
    "### 3. Se crea una matriz con los nombres de las respectivas columnas"
   ]
  },
  {
   "cell_type": "code",
   "execution_count": 4,
   "metadata": {},
   "outputs": [],
   "source": [
    "mat = {}\n",
    "\n",
    "mat[\"Año\"] = []\n",
    "mat[\"Numero\"] = []\n",
    "mat[\"Generica\"] = []\n",
    "mat[\"Especifica\"] = []\n",
    "mat[\"Modalidad\"] = []\n",
    "mat[\"Departamento\"] = []\n",
    "mat[\"Provincia\"] = []\n",
    "mat[\"Distrito\"] = []"
   ]
  },
  {
   "cell_type": "markdown",
   "metadata": {},
   "source": [
    "### 3. Se recorre el html anteriormente creado para ingresarlo en la columna respectiva de la matriz y posteriormente se ingresa en un csv"
   ]
  },
  {
   "cell_type": "code",
   "execution_count": 16,
   "metadata": {},
   "outputs": [],
   "source": [
    "for i in range(1,len(arr2) - 1):\n",
    "    mat[\"Año\"].append(arr2[i][0][0])\n",
    "    mat[\"Numero\"].append(arr2[i][0][1])\n",
    "    mat[\"Generica\"].append(arr2[i][0][2])\n",
    "    mat[\"Especifica\"].append(arr2[i][0][3])\n",
    "    mat[\"Modalidad\"].append(arr2[i][0][4])\n",
    "    mat[\"Departamento\"].append(arr2[i][0][5])\n",
    "    mat[\"Provincia\"].append(arr2[i][0][6])\n",
    "    mat[\"Distrito\"].append(arr2[i][0][7])\n",
    "dfdelitos = pd.DataFrame(mat)"
   ]
  },
  {
   "cell_type": "code",
   "execution_count": 17,
   "metadata": {},
   "outputs": [
    {
     "data": {
      "text/html": [
       "<div>\n",
       "<style scoped>\n",
       "    .dataframe tbody tr th:only-of-type {\n",
       "        vertical-align: middle;\n",
       "    }\n",
       "\n",
       "    .dataframe tbody tr th {\n",
       "        vertical-align: top;\n",
       "    }\n",
       "\n",
       "    .dataframe thead th {\n",
       "        text-align: right;\n",
       "    }\n",
       "</style>\n",
       "<table border=\"1\" class=\"dataframe\">\n",
       "  <thead>\n",
       "    <tr style=\"text-align: right;\">\n",
       "      <th></th>\n",
       "      <th>Año</th>\n",
       "      <th>Numero</th>\n",
       "      <th>Generica</th>\n",
       "      <th>Especifica</th>\n",
       "      <th>Modalidad</th>\n",
       "      <th>Departamento</th>\n",
       "      <th>Provincia</th>\n",
       "      <th>Distrito</th>\n",
       "    </tr>\n",
       "  </thead>\n",
       "  <tbody>\n",
       "    <tr>\n",
       "      <th>0</th>\n",
       "      <td>2015</td>\n",
       "      <td>1</td>\n",
       "      <td>DELITOS CONTRA EL ESTADO Y LA DEFENSA NACIONAL</td>\n",
       "      <td>DELITOS QUE COMPROMETEN LAS RELACIONES EXTERIO...</td>\n",
       "      <td>OTROS DELITOS QUE COMPROMETEN LAS RELACIONES E...</td>\n",
       "      <td>CUSCO</td>\n",
       "      <td>QUISPICANCHI</td>\n",
       "      <td>081203 CAMANTI</td>\n",
       "    </tr>\n",
       "    <tr>\n",
       "      <th>1</th>\n",
       "      <td>2015</td>\n",
       "      <td>3</td>\n",
       "      <td>DELITOS CONTRA EL HONOR</td>\n",
       "      <td>OTROS</td>\n",
       "      <td>OTROS DELITOS CONTRA EL HONOR</td>\n",
       "      <td>PASCO</td>\n",
       "      <td>PASCO</td>\n",
       "      <td>190103 HUARIACA</td>\n",
       "    </tr>\n",
       "    <tr>\n",
       "      <th>2</th>\n",
       "      <td>2015</td>\n",
       "      <td>1</td>\n",
       "      <td>DELITOS CONTRA EL ORDEN FINANCIERO Y MONETARIO</td>\n",
       "      <td>DELITO MONETARIO</td>\n",
       "      <td>EMISION ILEGAL DE BILLETES Y OTROS</td>\n",
       "      <td>JUNIN</td>\n",
       "      <td>HUANCAYO</td>\n",
       "      <td>120114 EL TAMBO</td>\n",
       "    </tr>\n",
       "    <tr>\n",
       "      <th>3</th>\n",
       "      <td>2015</td>\n",
       "      <td>2</td>\n",
       "      <td>DELITOS CONTRA EL ORDEN FINANCIERO Y MONETARIO</td>\n",
       "      <td>DELITO MONETARIO</td>\n",
       "      <td>EMISION ILEGAL DE BILLETES Y OTROS</td>\n",
       "      <td>LIMA PROVINCIAS 2/</td>\n",
       "      <td>HUAURA</td>\n",
       "      <td>150801 HUACHO</td>\n",
       "    </tr>\n",
       "    <tr>\n",
       "      <th>4</th>\n",
       "      <td>2015</td>\n",
       "      <td>4</td>\n",
       "      <td>DELITOS CONTRA EL ORDEN FINANCIERO Y MONETARIO</td>\n",
       "      <td>DELITO MONETARIO</td>\n",
       "      <td>EMISION ILEGAL DE BILLETES Y OTROS</td>\n",
       "      <td>PROVINCIA DE LIMA 1/</td>\n",
       "      <td>LIMA</td>\n",
       "      <td>150110 COMAS</td>\n",
       "    </tr>\n",
       "    <tr>\n",
       "      <th>...</th>\n",
       "      <td>...</td>\n",
       "      <td>...</td>\n",
       "      <td>...</td>\n",
       "      <td>...</td>\n",
       "      <td>...</td>\n",
       "      <td>...</td>\n",
       "      <td>...</td>\n",
       "      <td>...</td>\n",
       "    </tr>\n",
       "    <tr>\n",
       "      <th>549819</th>\n",
       "      <td>2019</td>\n",
       "      <td>3</td>\n",
       "      <td>DELITOS CONTRA LA VIDA, EL CUERPO Y LA SALUD</td>\n",
       "      <td>TENTATIVA DE HOMICIDIO</td>\n",
       "      <td>TENTATIVA DE FEMINICIDIO</td>\n",
       "      <td>JUNIN</td>\n",
       "      <td>HUANCAYO</td>\n",
       "      <td>120107 CHILCA</td>\n",
       "    </tr>\n",
       "    <tr>\n",
       "      <th>549820</th>\n",
       "      <td>2019</td>\n",
       "      <td>1</td>\n",
       "      <td>DELITOS CONTRA LA VOLUNTAD POPULAR</td>\n",
       "      <td>LEY ORGANICA DE ELECCIONES (LEY 26859 01/10/97)</td>\n",
       "      <td>NO EXIGIR DNI CON CONSTANCIA DE SUFRAGIO POR N...</td>\n",
       "      <td>AMAZONAS</td>\n",
       "      <td>CHACHAPOYAS</td>\n",
       "      <td>010101 CHACHAPOYAS</td>\n",
       "    </tr>\n",
       "    <tr>\n",
       "      <th>549821</th>\n",
       "      <td>2019</td>\n",
       "      <td>2</td>\n",
       "      <td>DELITOS CONTRA LA VOLUNTAD POPULAR</td>\n",
       "      <td>LEY ORGANICA DE ELECCIONES (LEY 26859 01/10/97)</td>\n",
       "      <td>NO EXIGIR DNI CON CONSTANCIA DE SUFRAGIO POR N...</td>\n",
       "      <td>LIMA PROVINCIAS 2/</td>\n",
       "      <td>BARRANCA</td>\n",
       "      <td>150204 SUPE</td>\n",
       "    </tr>\n",
       "    <tr>\n",
       "      <th>549822</th>\n",
       "      <td>2019</td>\n",
       "      <td>1</td>\n",
       "      <td>DELITOS CONTRA LOS PODERES DEL ESTADO Y EL ORD...</td>\n",
       "      <td>REBELION, SEDICION Y MOTIN</td>\n",
       "      <td>SEDUCCION, USURPACION Y RETENCION ILEGAL DE MANDO</td>\n",
       "      <td>ICA</td>\n",
       "      <td>ICA</td>\n",
       "      <td>110101 ICA</td>\n",
       "    </tr>\n",
       "    <tr>\n",
       "      <th>549823</th>\n",
       "      <td>2019</td>\n",
       "      <td>1</td>\n",
       "      <td>DELITOS TRIBUTARIOS</td>\n",
       "      <td>CONTRABANDO</td>\n",
       "      <td>CONTRABANDO</td>\n",
       "      <td>PIURA</td>\n",
       "      <td>SULLANA</td>\n",
       "      <td>200604 LANCONES</td>\n",
       "    </tr>\n",
       "  </tbody>\n",
       "</table>\n",
       "<p>549824 rows × 8 columns</p>\n",
       "</div>"
      ],
      "text/plain": [
       "         Año Numero                                           Generica  \\\n",
       "0       2015      1     DELITOS CONTRA EL ESTADO Y LA DEFENSA NACIONAL   \n",
       "1       2015      3                            DELITOS CONTRA EL HONOR   \n",
       "2       2015      1     DELITOS CONTRA EL ORDEN FINANCIERO Y MONETARIO   \n",
       "3       2015      2     DELITOS CONTRA EL ORDEN FINANCIERO Y MONETARIO   \n",
       "4       2015      4     DELITOS CONTRA EL ORDEN FINANCIERO Y MONETARIO   \n",
       "...      ...    ...                                                ...   \n",
       "549819  2019      3       DELITOS CONTRA LA VIDA, EL CUERPO Y LA SALUD   \n",
       "549820  2019      1                 DELITOS CONTRA LA VOLUNTAD POPULAR   \n",
       "549821  2019      2                 DELITOS CONTRA LA VOLUNTAD POPULAR   \n",
       "549822  2019      1  DELITOS CONTRA LOS PODERES DEL ESTADO Y EL ORD...   \n",
       "549823  2019      1                                DELITOS TRIBUTARIOS   \n",
       "\n",
       "                                               Especifica  \\\n",
       "0       DELITOS QUE COMPROMETEN LAS RELACIONES EXTERIO...   \n",
       "1                                                   OTROS   \n",
       "2                                        DELITO MONETARIO   \n",
       "3                                        DELITO MONETARIO   \n",
       "4                                        DELITO MONETARIO   \n",
       "...                                                   ...   \n",
       "549819                             TENTATIVA DE HOMICIDIO   \n",
       "549820    LEY ORGANICA DE ELECCIONES (LEY 26859 01/10/97)   \n",
       "549821    LEY ORGANICA DE ELECCIONES (LEY 26859 01/10/97)   \n",
       "549822                         REBELION, SEDICION Y MOTIN   \n",
       "549823                                        CONTRABANDO   \n",
       "\n",
       "                                                Modalidad  \\\n",
       "0       OTROS DELITOS QUE COMPROMETEN LAS RELACIONES E...   \n",
       "1                           OTROS DELITOS CONTRA EL HONOR   \n",
       "2                      EMISION ILEGAL DE BILLETES Y OTROS   \n",
       "3                      EMISION ILEGAL DE BILLETES Y OTROS   \n",
       "4                      EMISION ILEGAL DE BILLETES Y OTROS   \n",
       "...                                                   ...   \n",
       "549819                           TENTATIVA DE FEMINICIDIO   \n",
       "549820  NO EXIGIR DNI CON CONSTANCIA DE SUFRAGIO POR N...   \n",
       "549821  NO EXIGIR DNI CON CONSTANCIA DE SUFRAGIO POR N...   \n",
       "549822  SEDUCCION, USURPACION Y RETENCION ILEGAL DE MANDO   \n",
       "549823                                        CONTRABANDO   \n",
       "\n",
       "                Departamento     Provincia            Distrito  \n",
       "0                      CUSCO  QUISPICANCHI      081203 CAMANTI  \n",
       "1                      PASCO         PASCO     190103 HUARIACA  \n",
       "2                      JUNIN      HUANCAYO     120114 EL TAMBO  \n",
       "3         LIMA PROVINCIAS 2/        HUAURA       150801 HUACHO  \n",
       "4       PROVINCIA DE LIMA 1/          LIMA        150110 COMAS  \n",
       "...                      ...           ...                 ...  \n",
       "549819                 JUNIN      HUANCAYO       120107 CHILCA  \n",
       "549820              AMAZONAS   CHACHAPOYAS  010101 CHACHAPOYAS  \n",
       "549821    LIMA PROVINCIAS 2/      BARRANCA         150204 SUPE  \n",
       "549822                   ICA           ICA          110101 ICA  \n",
       "549823                 PIURA       SULLANA     200604 LANCONES  \n",
       "\n",
       "[549824 rows x 8 columns]"
      ]
     },
     "execution_count": 17,
     "metadata": {},
     "output_type": "execute_result"
    }
   ],
   "source": [
    "dfdelitos"
   ]
  },
  {
   "cell_type": "markdown",
   "metadata": {},
   "source": [
    "### 4. Se almacena el DataFrame en un csv"
   ]
  },
  {
   "cell_type": "code",
   "execution_count": 18,
   "metadata": {},
   "outputs": [],
   "source": [
    "dfdelitos.to_csv(\"DataCrim_SinProcesar.csv\", index=False)"
   ]
  }
 ],
 "metadata": {
  "kernelspec": {
   "display_name": "Python 3",
   "language": "python",
   "name": "python3"
  },
  "language_info": {
   "codemirror_mode": {
    "name": "ipython",
    "version": 3
   },
   "file_extension": ".py",
   "mimetype": "text/x-python",
   "name": "python",
   "nbconvert_exporter": "python",
   "pygments_lexer": "ipython3",
   "version": "3.8.3"
  }
 },
 "nbformat": 4,
 "nbformat_minor": 4
}
